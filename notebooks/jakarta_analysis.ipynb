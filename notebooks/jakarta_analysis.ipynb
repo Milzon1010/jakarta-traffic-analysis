{
 "cells": [
  {
   "cell_type": "code",
   "execution_count": 51,
   "id": "dfd92a4f",
   "metadata": {},
   "outputs": [
    {
     "data": {
      "text/html": [
       "<div>\n",
       "<style scoped>\n",
       "    .dataframe tbody tr th:only-of-type {\n",
       "        vertical-align: middle;\n",
       "    }\n",
       "\n",
       "    .dataframe tbody tr th {\n",
       "        vertical-align: top;\n",
       "    }\n",
       "\n",
       "    .dataframe thead th {\n",
       "        text-align: right;\n",
       "    }\n",
       "</style>\n",
       "<table border=\"1\" class=\"dataframe\">\n",
       "  <thead>\n",
       "    <tr style=\"text-align: right;\">\n",
       "      <th></th>\n",
       "      <th>Date</th>\n",
       "      <th>Location</th>\n",
       "      <th>Hour</th>\n",
       "      <th>Vehicle_Count</th>\n",
       "      <th>Average_Speed_kmh</th>\n",
       "      <th>Weather_Condition</th>\n",
       "      <th>Is_Weekend</th>\n",
       "      <th>Road_Type</th>\n",
       "    </tr>\n",
       "  </thead>\n",
       "  <tbody>\n",
       "    <tr>\n",
       "      <th>0</th>\n",
       "      <td>2024-01-01</td>\n",
       "      <td>Thamrin-Sudirman</td>\n",
       "      <td>7</td>\n",
       "      <td>1250.0</td>\n",
       "      <td>15.2</td>\n",
       "      <td>Sunny</td>\n",
       "      <td>False</td>\n",
       "      <td>Main_Road</td>\n",
       "    </tr>\n",
       "    <tr>\n",
       "      <th>1</th>\n",
       "      <td>2024-01-01</td>\n",
       "      <td>Thamrin-Sudirman</td>\n",
       "      <td>8</td>\n",
       "      <td>1890.0</td>\n",
       "      <td>12.5</td>\n",
       "      <td>Sunny</td>\n",
       "      <td>False</td>\n",
       "      <td>Main_Road</td>\n",
       "    </tr>\n",
       "    <tr>\n",
       "      <th>2</th>\n",
       "      <td>2024-01-01</td>\n",
       "      <td>Thamrin-Sudirman</td>\n",
       "      <td>9</td>\n",
       "      <td>1650.0</td>\n",
       "      <td>18.3</td>\n",
       "      <td>Sunny</td>\n",
       "      <td>False</td>\n",
       "      <td>Main_Road</td>\n",
       "    </tr>\n",
       "    <tr>\n",
       "      <th>3</th>\n",
       "      <td>2024-01-01</td>\n",
       "      <td>Thamrin-Sudirman</td>\n",
       "      <td>17</td>\n",
       "      <td>1780.0</td>\n",
       "      <td>14.1</td>\n",
       "      <td>Sunny</td>\n",
       "      <td>False</td>\n",
       "      <td>Main_Road</td>\n",
       "    </tr>\n",
       "    <tr>\n",
       "      <th>4</th>\n",
       "      <td>2024-01-01</td>\n",
       "      <td>Thamrin-Sudirman</td>\n",
       "      <td>18</td>\n",
       "      <td>2100.0</td>\n",
       "      <td>11.8</td>\n",
       "      <td>Sunny</td>\n",
       "      <td>False</td>\n",
       "      <td>Main_Road</td>\n",
       "    </tr>\n",
       "  </tbody>\n",
       "</table>\n",
       "</div>"
      ],
      "text/plain": [
       "         Date          Location  Hour  Vehicle_Count  Average_Speed_kmh  \\\n",
       "0  2024-01-01  Thamrin-Sudirman     7         1250.0               15.2   \n",
       "1  2024-01-01  Thamrin-Sudirman     8         1890.0               12.5   \n",
       "2  2024-01-01  Thamrin-Sudirman     9         1650.0               18.3   \n",
       "3  2024-01-01  Thamrin-Sudirman    17         1780.0               14.1   \n",
       "4  2024-01-01  Thamrin-Sudirman    18         2100.0               11.8   \n",
       "\n",
       "  Weather_Condition Is_Weekend  Road_Type  \n",
       "0             Sunny      False  Main_Road  \n",
       "1             Sunny      False  Main_Road  \n",
       "2             Sunny      False  Main_Road  \n",
       "3             Sunny      False  Main_Road  \n",
       "4             Sunny      False  Main_Road  "
      ]
     },
     "execution_count": 51,
     "metadata": {},
     "output_type": "execute_result"
    }
   ],
   "source": [
    "import pandas as pd\n",
    "\n",
    "# Load dataset\n",
    "df = pd.read_csv('../data/jakarta_traffic_data.csv')\n",
    "\n",
    "# Tampilkan 5 baris pertama\n",
    "df.head()"
   ]
  },
  {
   "cell_type": "code",
   "execution_count": 52,
   "id": "b941f065",
   "metadata": {},
   "outputs": [
    {
     "name": "stdout",
     "output_type": "stream",
     "text": [
      "<class 'pandas.core.frame.DataFrame'>\n",
      "RangeIndex: 288 entries, 0 to 287\n",
      "Data columns (total 8 columns):\n",
      " #   Column             Non-Null Count  Dtype  \n",
      "---  ------             --------------  -----  \n",
      " 0   Date               288 non-null    object \n",
      " 1   Location           288 non-null    object \n",
      " 2   Hour               288 non-null    int64  \n",
      " 3   Vehicle_Count      287 non-null    float64\n",
      " 4   Average_Speed_kmh  287 non-null    float64\n",
      " 5   Weather_Condition  287 non-null    object \n",
      " 6   Is_Weekend         287 non-null    object \n",
      " 7   Road_Type          288 non-null    object \n",
      "dtypes: float64(2), int64(1), object(5)\n",
      "memory usage: 18.1+ KB\n"
     ]
    }
   ],
   "source": [
    "df.info()"
   ]
  },
  {
   "cell_type": "code",
   "execution_count": 53,
   "id": "5d598422",
   "metadata": {},
   "outputs": [
    {
     "data": {
      "text/html": [
       "<div>\n",
       "<style scoped>\n",
       "    .dataframe tbody tr th:only-of-type {\n",
       "        vertical-align: middle;\n",
       "    }\n",
       "\n",
       "    .dataframe tbody tr th {\n",
       "        vertical-align: top;\n",
       "    }\n",
       "\n",
       "    .dataframe thead th {\n",
       "        text-align: right;\n",
       "    }\n",
       "</style>\n",
       "<table border=\"1\" class=\"dataframe\">\n",
       "  <thead>\n",
       "    <tr style=\"text-align: right;\">\n",
       "      <th></th>\n",
       "      <th>Hour</th>\n",
       "      <th>Vehicle_Count</th>\n",
       "      <th>Average_Speed_kmh</th>\n",
       "    </tr>\n",
       "  </thead>\n",
       "  <tbody>\n",
       "    <tr>\n",
       "      <th>count</th>\n",
       "      <td>288.000000</td>\n",
       "      <td>287.000000</td>\n",
       "      <td>287.000000</td>\n",
       "    </tr>\n",
       "    <tr>\n",
       "      <th>mean</th>\n",
       "      <td>12.027778</td>\n",
       "      <td>1349.442509</td>\n",
       "      <td>21.431359</td>\n",
       "    </tr>\n",
       "    <tr>\n",
       "      <th>std</th>\n",
       "      <td>4.319060</td>\n",
       "      <td>412.906764</td>\n",
       "      <td>8.013873</td>\n",
       "    </tr>\n",
       "    <tr>\n",
       "      <th>min</th>\n",
       "      <td>7.000000</td>\n",
       "      <td>380.000000</td>\n",
       "      <td>8.400000</td>\n",
       "    </tr>\n",
       "    <tr>\n",
       "      <th>25%</th>\n",
       "      <td>8.000000</td>\n",
       "      <td>1050.000000</td>\n",
       "      <td>15.600000</td>\n",
       "    </tr>\n",
       "    <tr>\n",
       "      <th>50%</th>\n",
       "      <td>10.000000</td>\n",
       "      <td>1320.000000</td>\n",
       "      <td>19.800000</td>\n",
       "    </tr>\n",
       "    <tr>\n",
       "      <th>75%</th>\n",
       "      <td>17.000000</td>\n",
       "      <td>1650.000000</td>\n",
       "      <td>25.800000</td>\n",
       "    </tr>\n",
       "    <tr>\n",
       "      <th>max</th>\n",
       "      <td>22.000000</td>\n",
       "      <td>2450.000000</td>\n",
       "      <td>52.100000</td>\n",
       "    </tr>\n",
       "  </tbody>\n",
       "</table>\n",
       "</div>"
      ],
      "text/plain": [
       "             Hour  Vehicle_Count  Average_Speed_kmh\n",
       "count  288.000000     287.000000         287.000000\n",
       "mean    12.027778    1349.442509          21.431359\n",
       "std      4.319060     412.906764           8.013873\n",
       "min      7.000000     380.000000           8.400000\n",
       "25%      8.000000    1050.000000          15.600000\n",
       "50%     10.000000    1320.000000          19.800000\n",
       "75%     17.000000    1650.000000          25.800000\n",
       "max     22.000000    2450.000000          52.100000"
      ]
     },
     "execution_count": 53,
     "metadata": {},
     "output_type": "execute_result"
    }
   ],
   "source": [
    "df.describe()"
   ]
  },
  {
   "cell_type": "markdown",
   "id": "d17a56e1",
   "metadata": {},
   "source": [
    "Konversi kolom Date ke datetime (convertion date to datetime)\n",
    "Ini penting agar kamu bisa melakukan analisis berdasarkan hari/tanggal secara akurat."
   ]
  },
  {
   "cell_type": "code",
   "execution_count": 54,
   "id": "ff1f7fdb",
   "metadata": {},
   "outputs": [],
   "source": [
    "df['Date'] = pd.to_datetime(df['Date'])"
   ]
  },
  {
   "cell_type": "markdown",
   "id": "591f8055",
   "metadata": {},
   "source": [
    "Konversi kolom Is_Weekend ke Boolean (is_weekend to boolean), Supaya nanti bisa difilter atau dianalisis dengan kondisi weekend lebih mudah."
   ]
  },
  {
   "cell_type": "code",
   "execution_count": 55,
   "id": "80ebdf87",
   "metadata": {},
   "outputs": [],
   "source": [
    "df['Is_Weekend'] = df['Is_Weekend'].astype(bool)"
   ]
  },
  {
   "cell_type": "markdown",
   "id": "fca365a4",
   "metadata": {},
   "source": [
    "📌 Cek & Tangani Missing Values, Untuk mengetahui kolom mana yang masih punya nilai kosong (NaN), dan berapa banyak.\n"
   ]
  },
  {
   "cell_type": "code",
   "execution_count": 56,
   "id": "4571be30",
   "metadata": {},
   "outputs": [
    {
     "data": {
      "text/plain": [
       "Date                 0\n",
       "Location             0\n",
       "Hour                 0\n",
       "Vehicle_Count        1\n",
       "Average_Speed_kmh    1\n",
       "Weather_Condition    1\n",
       "Is_Weekend           0\n",
       "Road_Type            0\n",
       "dtype: int64"
      ]
     },
     "execution_count": 56,
     "metadata": {},
     "output_type": "execute_result"
    }
   ],
   "source": [
    "df.isnull().sum()"
   ]
  },
  {
   "cell_type": "markdown",
   "id": "e7990925",
   "metadata": {},
   "source": [
    "### 🧼 Step 2: Data Cleaning and Preparation\n",
    "\n",
    "🚩 **Tujuan:**\n",
    "- Konversi kolom `Date` menjadi format datetime\n",
    "- Isi missing values:\n",
    "  - Angka → isi dengan **mean**\n",
    "  - Kategori → isi dengan **modus**\n",
    "- Tambahkan kolom baru:\n",
    "  - `Day_of_Week`\n",
    "  - `Time_Period`"
   ]
  },
  {
   "cell_type": "code",
   "execution_count": 57,
   "id": "5b10cb00",
   "metadata": {},
   "outputs": [],
   "source": [
    "# Convert Date\n",
    "df['Date'] = pd.to_datetime(df['Date'])\n",
    "\n",
    "# Fill missing numerical values\n",
    "df['Vehicle_Count'] = df['Vehicle_Count'].fillna(df['Vehicle_Count'].mean())\n",
    "df['Average_Speed_kmh'] = df['Average_Speed_kmh'].fillna(df['Average_Speed_kmh'].mean())\n",
    "\n",
    "# Fill missing categorical values\n",
    "df['Weather_Condition'] = df['Weather_Condition'].fillna(df['Weather_Condition'].mode()[0])\n",
    "df['Is_Weekend'] = df['Is_Weekend'].fillna(df['Is_Weekend'].mode()[0])"
   ]
  },
  {
   "cell_type": "code",
   "execution_count": 58,
   "id": "c134ed44",
   "metadata": {},
   "outputs": [
    {
     "data": {
      "text/html": [
       "<div>\n",
       "<style scoped>\n",
       "    .dataframe tbody tr th:only-of-type {\n",
       "        vertical-align: middle;\n",
       "    }\n",
       "\n",
       "    .dataframe tbody tr th {\n",
       "        vertical-align: top;\n",
       "    }\n",
       "\n",
       "    .dataframe thead th {\n",
       "        text-align: right;\n",
       "    }\n",
       "</style>\n",
       "<table border=\"1\" class=\"dataframe\">\n",
       "  <thead>\n",
       "    <tr style=\"text-align: right;\">\n",
       "      <th></th>\n",
       "      <th>Date</th>\n",
       "      <th>Hour</th>\n",
       "      <th>Day_of_Week</th>\n",
       "      <th>Time_Period</th>\n",
       "    </tr>\n",
       "  </thead>\n",
       "  <tbody>\n",
       "    <tr>\n",
       "      <th>0</th>\n",
       "      <td>2024-01-01</td>\n",
       "      <td>7</td>\n",
       "      <td>Monday</td>\n",
       "      <td>Morning Rush</td>\n",
       "    </tr>\n",
       "    <tr>\n",
       "      <th>1</th>\n",
       "      <td>2024-01-01</td>\n",
       "      <td>8</td>\n",
       "      <td>Monday</td>\n",
       "      <td>Morning Rush</td>\n",
       "    </tr>\n",
       "    <tr>\n",
       "      <th>2</th>\n",
       "      <td>2024-01-01</td>\n",
       "      <td>9</td>\n",
       "      <td>Monday</td>\n",
       "      <td>Morning Rush</td>\n",
       "    </tr>\n",
       "    <tr>\n",
       "      <th>3</th>\n",
       "      <td>2024-01-01</td>\n",
       "      <td>17</td>\n",
       "      <td>Monday</td>\n",
       "      <td>Evening Rush</td>\n",
       "    </tr>\n",
       "    <tr>\n",
       "      <th>4</th>\n",
       "      <td>2024-01-01</td>\n",
       "      <td>18</td>\n",
       "      <td>Monday</td>\n",
       "      <td>Evening Rush</td>\n",
       "    </tr>\n",
       "  </tbody>\n",
       "</table>\n",
       "</div>"
      ],
      "text/plain": [
       "        Date  Hour Day_of_Week   Time_Period\n",
       "0 2024-01-01     7      Monday  Morning Rush\n",
       "1 2024-01-01     8      Monday  Morning Rush\n",
       "2 2024-01-01     9      Monday  Morning Rush\n",
       "3 2024-01-01    17      Monday  Evening Rush\n",
       "4 2024-01-01    18      Monday  Evening Rush"
      ]
     },
     "execution_count": 58,
     "metadata": {},
     "output_type": "execute_result"
    }
   ],
   "source": [
    "#colum Day_of_Week (monday-sunday)\n",
    "df['Day_of_Week'] = df['Date'].dt.day_name()\n",
    "\n",
    "#make column Time_Period\n",
    "def categorize_time(hour):\n",
    "    if 7 <= hour <= 9:\n",
    "        return \"Morning Rush\"\n",
    "    elif 10 <= hour <= 15:\n",
    "        return \"Midday\"\n",
    "    elif 16 <= hour <= 19:\n",
    "        return \"Evening Rush\"\n",
    "    else:\n",
    "        return \"Night\"\n",
    "\n",
    "df['Time_Period'] = df['Hour'].apply(categorize_time)\n",
    "\n",
    "#check new column\n",
    "df[['Date', 'Hour', 'Day_of_Week', 'Time_Period']].head()"
   ]
  },
  {
   "cell_type": "markdown",
   "id": "909aaf1b",
   "metadata": {},
   "source": [
    "✅Traffic Pattern Analysis\n",
    "- 1. Peak Hours Analysis\n",
    "    - a. Jam dengan kendaraan terbanyak (rata-rata tertinggi) >> highest hour (avarage high)\n",
    "    - b. Jam dengan kecepatan paling rendah >>Lowest avarage speed\n",
    "- 2. Location Comparison\n",
    "    - a. Rata-rata kendaraan per lokasi & 3 lokasi terpadat (avarage per location & most location)\n",
    "    - b. Lokasi dengan kecepatan rata-rata paling lambat (location which avarage speed slowest)\n",
    "- 3. Weekend vs Weekday Analysis"
   ]
  },
  {
   "cell_type": "code",
   "execution_count": 59,
   "id": "94aac2f2",
   "metadata": {},
   "outputs": [
    {
     "name": "stdout",
     "output_type": "stream",
     "text": [
      "Hour with the highest average vehicle count: 18:00\n",
      "Hour with the lowest average speed: 18:00\n",
      "\n",
      "Top 3 Most Congested Locations (by avg vehicle count):\n",
      "Location\n",
      "Thamrin-Sudirman    1663.325590\n",
      "Senayan_Circle      1452.777778\n",
      "Gatot_Subroto       1283.194444\n",
      "Name: Vehicle_Count, dtype: float64\n",
      "\n",
      "Location with the lowest average speed: Thamrin-Sudirman\n",
      "\n",
      "Average Vehicle Count (Weekend vs Weekday):\n",
      "Is_Weekend\n",
      "False    1456.320370\n",
      "True      982.769231\n",
      "Name: Vehicle_Count, dtype: float64\n",
      "\n",
      "Average Speed (Weekend vs Weekday):\n",
      "Is_Weekend\n",
      "False    18.778168\n",
      "True     30.533846\n",
      "Name: Average_Speed_kmh, dtype: float64\n"
     ]
    }
   ],
   "source": [
    "#Hours with the most vehicles (highest average)\n",
    "peak_vehicle_hour = df.groupby('Hour')['Vehicle_Count'].mean().idxmax()\n",
    "print(f\"Hour with the highest average vehicle count: {peak_vehicle_hour}:00\")\n",
    "\n",
    "#hours with the lowest speed\n",
    "slowest_speed_hour = df.groupby('Hour')['Average_Speed_kmh'].mean().idxmin()\n",
    "print(f\"Hour with the lowest average speed: {slowest_speed_hour}:00\")\n",
    "\n",
    "#Average vehicles per location & 3 most crowded locations\n",
    "avg_vehicle_by_location = df.groupby('Location')['Vehicle_Count'].mean().sort_values(ascending=False)\n",
    "print(\"\\nTop 3 Most Congested Locations (by avg vehicle count):\")\n",
    "print(avg_vehicle_by_location.head(3))\n",
    "\n",
    "#Locations with the slowest average speeds\n",
    "slowest_location = df.groupby('Location')['Average_Speed_kmh'].mean().idxmin()\n",
    "print(f\"\\nLocation with the lowest average speed: {slowest_location}\")\n",
    "\n",
    "#Weekend vs Weekday Analysis\n",
    "weekend_group = df.groupby('Is_Weekend')\n",
    "\n",
    "print(\"\\nAverage Vehicle Count (Weekend vs Weekday):\")\n",
    "print(weekend_group['Vehicle_Count'].mean())\n",
    "\n",
    "print(\"\\nAverage Speed (Weekend vs Weekday):\")\n",
    "print(weekend_group['Average_Speed_kmh'].mean())\n",
    "\n",
    "\n"
   ]
  },
  {
   "cell_type": "markdown",
   "id": "213ba551",
   "metadata": {},
   "source": [
    "✅ Analisis Dampak Cuaca terhadap Lalu Lintas (Weather Impact Analysis on Traffic)\n",
    "- 1. Rata-rata jumlah kendaraan berdasarkan cuaca (Average number of vehicles based on weather)\n",
    "- 2. Rata-rata kecepatan berdasarkan cuaca (Average speed based on weather)\n",
    "- 3. Cuaca paling parah → kecepatan paling rendah (Worst weather → lowest speed)\n",
    "- 4. Persentase perbedaan kecepatan antara cerah dan hujan (Percentage difference in speed between sunny and rainy)"
   ]
  },
  {
   "cell_type": "code",
   "execution_count": 60,
   "id": "ad439b7f",
   "metadata": {},
   "outputs": [
    {
     "name": "stdout",
     "output_type": "stream",
     "text": [
      "Average Vehicle Count by Weather Condition:\n",
      "Weather_Condition\n",
      "Cloudy    1314.285714\n",
      "Rainy     1500.789474\n",
      "Sunny     1284.292167\n",
      "Name: Vehicle_Count, dtype: float64\n",
      "\n",
      "Average Speed by Weather Condition:\n",
      "Weather_Condition\n",
      "Cloudy    21.862745\n",
      "Rainy     18.244737\n",
      "Sunny     22.979259\n",
      "Name: Average_Speed_kmh, dtype: float64\n",
      "\n",
      "Weather condition with the lowest average speed (worst for traffic): Rainy\n",
      "\n",
      "Speed drops by 20.60% on Rainy days compared to Sunny days.\n"
     ]
    }
   ],
   "source": [
    "vehicle_by_weather = df.groupby('Weather_Condition')['Vehicle_Count'].mean()\n",
    "print(\"Average Vehicle Count by Weather Condition:\")\n",
    "print(vehicle_by_weather)\n",
    "\n",
    "speed_by_weather = df.groupby('Weather_Condition')['Average_Speed_kmh'].mean()\n",
    "print(\"\\nAverage Speed by Weather Condition:\")\n",
    "print(speed_by_weather)\n",
    "\n",
    "worst_weather = speed_by_weather.idxmin()\n",
    "print(f\"\\nWeather condition with the lowest average speed (worst for traffic): {worst_weather}\")\n",
    "\n",
    "sunny_speed = speed_by_weather.get('Sunny', None)\n",
    "rainy_speed = speed_by_weather.get('Rainy', None)\n",
    "\n",
    "if sunny_speed and rainy_speed:\n",
    "    diff_percent = ((sunny_speed - rainy_speed) / sunny_speed) * 100\n",
    "    print(f\"\\nSpeed drops by {diff_percent:.2f}% on Rainy days compared to Sunny days.\")\n",
    "else:\n",
    "    print(\"\\nSpeed comparison between Sunny and Rainy days not possible (data missing).\")\n"
   ]
  },
  {
   "cell_type": "markdown",
   "id": "7c0c4c81",
   "metadata": {},
   "source": [
    "✅ Analisis Performa Berdasarkan Tipe Jalan (Performance Analysis Based on Road Type)\n",
    "- Tujuannya:\n",
    "-   - Bandingkan rata-rata volume kendaraan per tipe jalan\n",
    "-   - Bandingkan rata-rata kecepatan per tipe jalan\n",
    "-   - Tentukan jalan paling padat dan jalan paling lancar\n",
    "- Objectives:\n",
    "-   - Compare average vehicle volume per road type\n",
    "-   - Compare average speed per road type\n",
    "-   - Determine the most congested and smoothest roads\n"
   ]
  },
  {
   "cell_type": "code",
   "execution_count": 61,
   "id": "58dd3806",
   "metadata": {},
   "outputs": [
    {
     "name": "stdout",
     "output_type": "stream",
     "text": [
      "Average Vehicle Count by Road Type:\n",
      "Road_Type\n",
      "Main_Road         1566.289808\n",
      "Highway           1283.194444\n",
      "Secondary_Road     998.472222\n",
      "Main_Road          380.000000\n",
      "Name: Vehicle_Count, dtype: float64\n",
      "\n",
      "Average Speed by Road Type:\n",
      "Road_Type\n",
      "Main_Road         48.700000\n",
      "Secondary_Road    28.252778\n",
      "Highway           22.292102\n",
      "Main_Road         17.372727\n",
      "Name: Average_Speed_kmh, dtype: float64\n",
      "\n",
      "Road type with highest traffic volume: Main_Road\n",
      "Road type with highest average speed: Main_Road \n"
     ]
    }
   ],
   "source": [
    "#Average number of vehicles per road type\n",
    "vehicle_by_road = df.groupby('Road_Type')['Vehicle_Count'].mean().sort_values(ascending=False)\n",
    "print(\"Average Vehicle Count by Road Type:\")\n",
    "print(vehicle_by_road)\n",
    "\n",
    "#Average speed per road type\n",
    "speed_by_road = df.groupby('Road_Type')['Average_Speed_kmh'].mean().sort_values(ascending=False)\n",
    "print(\"\\nAverage Speed by Road Type:\")\n",
    "print(speed_by_road)\n",
    "\n",
    "#Busiest road type (highest volume)\n",
    "\n",
    "busiest_road = vehicle_by_road.idxmax()\n",
    "print(f\"\\nRoad type with highest traffic volume: {busiest_road}\")\n",
    "\n",
    "fastest_road = speed_by_road.idxmax()\n",
    "print(f\"Road type with highest average speed: {fastest_road}\")\n",
    "\n"
   ]
  },
  {
   "cell_type": "markdown",
   "id": "8c8c1f11",
   "metadata": {},
   "source": [
    "-📝 Step 5 Summary: Road Type Performance\n",
    "🚗 Traffic Volume by Road Type:\n",
    "- The analysis shows that:\n",
    "- Main_Road has the highest average vehicle count (1,566 vehicles/hour), indicating it carries the majority of daily traffic in Jakarta.\n",
    "- Highway follows with ~1,283 vehicles/hour.\n",
    "- Secondary_Road sees the lowest volume at ~998 vehicles/hour.\n",
    "\n",
    "- ⚠️ Note: There appears to be a duplicate Main_Road entry with a significantly lower volume (380), suggesting potential data entry inconsistencies that may require cleaning.\n",
    "\n",
    "- 🚀 Average Speed by Road Type:\n",
    "- Surprisingly:\n",
    "\n",
    "- Main_Road also shows the highest average speed (48.7 km/h), which is unusual given it also carries the highest volume.\n",
    "- Secondary_Road follows with 28.25 km/h.\n",
    "\n",
    "- Highway is the slowest at 22.29 km/h — possibly due to bottlenecks or limited access.\n",
    "\n",
    "- ⚠️ Again, the second Main_Road entry shows an unusually low speed (17.37 km/h), further confirming potential label duplication.\n",
    "\n",
    "- 📌 Key Insights:\n",
    "- Main_Road appears as both the busiest and the fastest road type, though this may be skewed by inconsistent labeling.\n",
    "\n",
    "- Highway is expected to be faster but shows lower average speed, indicating possible congestion or underperformance.\n",
    "\n",
    "- ✅ Conclusion:\n",
    "- \"Main_Roads dominate Jakarta's traffic in both volume and speed, but data irregularities suggest a need for label standardization before final conclusions. Highways show lower speeds despite \n",
    "- being built for efficiency, which may signal congestion issues or infrastructure constraints. Addressing inconsistencies and optimizing traffic flow on highways could improve overall mobility.\""
   ]
  },
  {
   "cell_type": "code",
   "execution_count": 62,
   "id": "c7dc4597",
   "metadata": {},
   "outputs": [
    {
     "name": "stdout",
     "output_type": "stream",
     "text": [
      "['Main_Road' 'Highway' 'Secondary_Road' 'Main_Road ']\n"
     ]
    }
   ],
   "source": [
    "print(df['Road_Type'].unique())"
   ]
  },
  {
   "cell_type": "code",
   "execution_count": 63,
   "id": "33d8117f",
   "metadata": {},
   "outputs": [
    {
     "name": "stdout",
     "output_type": "stream",
     "text": [
      "['Main_Road' 'Highway' 'Secondary_Road']\n"
     ]
    }
   ],
   "source": [
    "# Strip whitespace and standardize case in 'Road_Type'\n",
    "df['Road_Type'] = df['Road_Type'].str.strip().str.title().str.replace(' ', '_')\n",
    "\n",
    "print(df['Road_Type'].unique())"
   ]
  },
  {
   "cell_type": "code",
   "execution_count": 64,
   "id": "ec985a93",
   "metadata": {},
   "outputs": [
    {
     "name": "stdout",
     "output_type": "stream",
     "text": [
      "Average Vehicle Count by Road Type:\n",
      "Road_Type\n",
      "Main_Road         1558.051684\n",
      "Highway           1283.194444\n",
      "Secondary_Road     998.472222\n",
      "Name: Vehicle_Count, dtype: float64\n",
      "\n",
      "Average Speed by Road Type:\n",
      "Road_Type\n",
      "Secondary_Road    28.252778\n",
      "Highway           22.292102\n",
      "Main_Road         17.590278\n",
      "Name: Average_Speed_kmh, dtype: float64\n",
      "\n",
      "Road type with highest traffic volume: Main_Road\n",
      "Road type with highest average speed: Secondary_Road\n"
     ]
    }
   ],
   "source": [
    "#Average number of vehicles per road type\n",
    "vehicle_by_road = df.groupby('Road_Type')['Vehicle_Count'].mean().sort_values(ascending=False)\n",
    "print(\"Average Vehicle Count by Road Type:\")\n",
    "print(vehicle_by_road)\n",
    "\n",
    "#Average speed per road type\n",
    "speed_by_road = df.groupby('Road_Type')['Average_Speed_kmh'].mean().sort_values(ascending=False)\n",
    "print(\"\\nAverage Speed by Road Type:\")\n",
    "print(speed_by_road)\n",
    "\n",
    "#Busiest road type (highest volume)\n",
    "\n",
    "busiest_road = vehicle_by_road.idxmax()\n",
    "print(f\"\\nRoad type with highest traffic volume: {busiest_road}\")\n",
    "\n",
    "fastest_road = speed_by_road.idxmax()\n",
    "print(f\"Road type with highest average speed: {fastest_road}\")\n",
    "\n"
   ]
  },
  {
   "cell_type": "markdown",
   "id": "58dac5af",
   "metadata": {},
   "source": [
    "## 📝 Step 5 Summary: Road Type Performance\n",
    "\n",
    "### 🚗 Average Vehicle Count by Road Type:\n",
    "\n",
    "**Main_Road** carries the highest traffic volume, with an average of **1,558 vehicles/hour**, highlighting its critical role in daily commuting across Jakarta.  \n",
    "\n",
    "**Highway** follows with ~**1,283 vehicles/hour**.  \n",
    "\n",
    "**Secondary_Road** has the lowest traffic volume at ~**998 vehicles/hour**, likely functioning as supporting or alternate routes.\n",
    "\n",
    "---\n",
    "\n",
    "### 🚀 Average Speed by Road Type:\n",
    "\n",
    "**Secondary_Road** records the highest average speed (**28.25 km/h**), indicating smoother flow due to lighter usage or fewer bottlenecks.  \n",
    "\n",
    "**Highway** surprisingly shows a lower average speed (**22.29 km/h**), possibly due to merging traffic or congestion at access points.  \n",
    "\n",
    "**Main_Road** has the lowest speed (**17.59 km/h**), despite carrying the highest traffic load — confirming it as the most congested type.\n",
    "\n",
    "---\n",
    "\n",
    "### 📌 Key Insights:\n",
    "\n",
    "- **Main_Road** is the busiest but also the **slowest**, suggesting serious congestion that may benefit from targeted traffic control or signal optimization.  \n",
    "- **Secondary_Road** offers the **best performance** in terms of speed, likely due to less volume and fewer intersections.\n",
    "\n",
    "---\n",
    "\n",
    "### ✅ Conclusion:\n",
    "\n",
    "> *“Main Roads are essential but heavily congested, requiring traffic relief strategies such as rerouting, adaptive traffic signals, or infrastructure improvements. Secondary Roads perform best in speed and may be promoted as alternative routes to ease Main Road congestion. Meanwhile, the lower-than-expected performance on Highways calls for a deeper review of their efficiency and access design.”*\n"
   ]
  },
  {
   "cell_type": "markdown",
   "id": "2fded7cc",
   "metadata": {},
   "source": [
    "## ✅ Rush Hour Deep Dive\n",
    "## 🎯 Objectives:\n",
    "** Analyze the “Morning Rush” (7–9) and “Evening Rush” (16–19)\n",
    "\n",
    "- Find the most congested locations during rush hour\n",
    "\n",
    "- Compare speed & volume\n",
    "\n",
    "- Find the most congested days during evening rush"
   ]
  },
  {
   "cell_type": "code",
   "execution_count": 65,
   "id": "7fd5a1fb",
   "metadata": {},
   "outputs": [
    {
     "name": "stdout",
     "output_type": "stream",
     "text": [
      "🚗 Most congested location during Morning Rush: Thamrin-Sudirman\n",
      "🚗 Most congested location during Evening Rush: Thamrin-Sudirman\n"
     ]
    }
   ],
   "source": [
    "rush_df = df[df['Time_Period'].isin(['Morning Rush', 'Evening Rush'])]\n",
    "\n",
    "\n",
    "# Most congested location in morning rush\n",
    "morning_peak = rush_df[rush_df['Time_Period'] == 'Morning Rush']\n",
    "most_crowded_morning = morning_peak.groupby('Location')['Vehicle_Count'].mean().idxmax()\n",
    "print(f\"🚗 Most congested location during Morning Rush: {most_crowded_morning}\")\n",
    "\n",
    "# Most congested location in evening rush\n",
    "evening_peak = rush_df[rush_df['Time_Period'] == 'Evening Rush']\n",
    "most_crowded_evening = evening_peak.groupby('Location')['Vehicle_Count'].mean().idxmax()\n",
    "print(f\"🚗 Most congested location during Evening Rush: {most_crowded_evening}\")"
   ]
  },
  {
   "cell_type": "code",
   "execution_count": 66,
   "id": "b3bc673d",
   "metadata": {},
   "outputs": [
    {
     "name": "stdout",
     "output_type": "stream",
     "text": [
      "\n",
      "🚦 Average Speed during Morning Rush: 19.79 km/h\n",
      "🚦 Average Speed during Evening Rush: 16.77 km/h\n",
      "📅 Day with the worst Evening Rush traffic: Friday\n"
     ]
    }
   ],
   "source": [
    "#Average speed in morning vs evening rush\n",
    "morning_speed = morning_peak['Average_Speed_kmh'].mean()\n",
    "evening_speed = evening_peak['Average_Speed_kmh'].mean()\n",
    "\n",
    "print(f\"\\n🚦 Average Speed during Morning Rush: {morning_speed:.2f} km/h\")\n",
    "print(f\"🚦 Average Speed during Evening Rush: {evening_speed:.2f} km/h\")\n",
    "\n",
    "#The most congested day during evening rush\n",
    "worst_evening_day = evening_peak.groupby('Day_of_Week')['Vehicle_Count'].mean().idxmax()\n",
    "print(f\"📅 Day with the worst Evening Rush traffic: {worst_evening_day}\")\n"
   ]
  },
  {
   "cell_type": "markdown",
   "id": "e88a4a10",
   "metadata": {},
   "source": [
    "## 🧠 Final Insights and Recommendations\n",
    "\n",
    "### 🔎 Key Insights:\n",
    "1. **Main_Roads handle the highest traffic volume**, but also record the **lowest average speed**, confirming severe congestion during peak hours.\n",
    "2. **Evening Rush is more severe** than Morning Rush, with slower speeds and higher vehicle counts — especially on weekdays.\n",
    "3. **Secondary_Roads offer the best speed performance**, making them potential candidates for traffic redirection or optimization.\n",
    "\n",
    "---\n",
    "\n",
    "### 🛠️ Recommendations:\n",
    "1. **Implement adaptive traffic signal systems** on Main_Roads, especially during Evening Rush, to mitigate bottlenecks and improve flow.\n",
    "2. **Promote the use of Secondary_Roads as alternative routes**, especially for short-distance commuters or non-commercial traffic.\n",
    "\n",
    "---\n",
    "\n",
    "### 😮 Surprising Insight:\n",
    "> Despite expectations, **Highways show lower average speed than Secondary Roads**, indicating either congestion at access points or underutilization of express lanes — this requires further investigation into highway design or traffic merging behavior.\n"
   ]
  },
  {
   "cell_type": "markdown",
   "id": "f1238261",
   "metadata": {},
   "source": [
    "## 🧠 Insight dan Rekomendasi Akhir\n",
    "\n",
    "### 🔎 Insight Utama:\n",
    "1. **Jalan utama (Main_Road)** menampung volume kendaraan tertinggi, namun juga memiliki **kecepatan rata-rata terendah**, menunjukkan tingkat kemacetan yang parah terutama pada jam sibuk.\n",
    "2. **Jam sibuk sore (Evening Rush)** lebih parah dibandingkan pagi hari, dengan kecepatan yang lebih lambat dan jumlah kendaraan yang lebih banyak — terutama saat hari kerja.\n",
    "3. **Jalan sekunder (Secondary_Road)** menunjukkan performa terbaik dalam hal kecepatan, sehingga layak dipertimbangkan sebagai jalur alternatif atau jalur pendukung distribusi lalu lintas.\n",
    "\n",
    "---\n",
    "\n",
    "### 🛠️ Rekomendasi:\n",
    "1. **Implementasikan sistem lampu lalu lintas adaptif (adaptive traffic signals)** di jalan utama, khususnya saat jam sibuk sore untuk mengurangi kemacetan dan memperlancar arus lalu lintas.\n",
    "2. **Promosikan penggunaan jalan sekunder sebagai jalur alternatif**, terutama bagi pengendara jarak pendek atau non-komersial, agar beban jalan utama bisa dikurangi.\n",
    "\n",
    "---\n",
    "\n",
    "### 😮 Insight Mengejutkan:\n",
    "> Meskipun secara umum jalan tol (Highway) dianggap lebih cepat, ternyata rata-rata kecepatannya justru lebih rendah dari jalan sekunder — hal ini bisa disebabkan oleh kemacetan di akses masuk/keluar atau desain lalu lintas yang kurang efisien, dan perlu dianalisis lebih lanjut.\n"
   ]
  }
 ],
 "metadata": {
  "kernelspec": {
   "display_name": "python_env",
   "language": "python",
   "name": "python_env"
  },
  "language_info": {
   "codemirror_mode": {
    "name": "ipython",
    "version": 3
   },
   "file_extension": ".py",
   "mimetype": "text/x-python",
   "name": "python",
   "nbconvert_exporter": "python",
   "pygments_lexer": "ipython3",
   "version": "3.13.5"
  }
 },
 "nbformat": 4,
 "nbformat_minor": 5
}
